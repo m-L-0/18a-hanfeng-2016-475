{
 "cells": [
  {
   "cell_type": "code",
   "execution_count": null,
   "metadata": {},
   "outputs": [],
   "source": [
    "#三班韩锋\n",
    "2016011475"
   ]
  },
  {
   "cell_type": "code",
   "execution_count": 2,
   "metadata": {},
   "outputs": [],
   "source": [
    "import tensorflow as tf"
   ]
  },
  {
   "cell_type": "code",
   "execution_count": null,
   "metadata": {},
   "outputs": [],
   "source": [
    "#第一题\n",
    "a = tf.placeholder(dtype=tf.float32,shape=[])\n",
    "b = tf.placeholder(dtype=tf.float32,shape=[])\n",
    "c = tf.placeholder(dtype=tf.float32,shape=[])\n",
    "i = tf.constant(0)\n",
    "n = tf.constant()\n",
    "def maxnum(a,b):\n",
    "    def cond(i,n):\n",
    "        return i<n\n",
    "    def body(i,n):\n",
    "        i = i+1\n",
    "        def step_case(i):\n",
    "            i = tf.convert_to_tensor(i)\n",
    "            case_greater = (a[i]>b[i], lambda: a[i])\n",
    "            case_equal = (tf.equal(a[i],b[i]), lambda: a[i])\n",
    "            case_less = (a[i]<b[i], lambda: b[i])\n",
    "            ab =  tf.case([case_greater, case_equal, case_less])\n",
    "        c[i] = ab\n",
    "    result_i,result_n = tf.while_loop(cond,body,[i,n])\n",
    "return c\n",
    "c = muxnum([1,2],[5,1])\n",
    "with tf.Session() as sess:\n",
    "    print(sess.run(c))"
   ]
  },
  {
   "cell_type": "code",
   "execution_count": null,
   "metadata": {},
   "outputs": [],
   "source": [
    "#第二题\n",
    "#tf.maximum:输入两个shape、dtype都一样的张量，输出一个同样shape、对dtype的张量，并且输出的张量中的元素的每一个值都是输入张量中对应元素最大的\n",
    "a = tf.maximum(tf.constant([1,2]),tf.constant([5,1]))\n",
    "with tf.Session() as sess:\n",
    "    print(a.eval())"
   ]
  },
  {
   "cell_type": "code",
   "execution_count": null,
   "metadata": {},
   "outputs": [],
   "source": [
    "#tf.minimum:输入两个shape、dtype都一样的张量，输出一个同样shape、对dtype的张量，并且输出的张量中的元素的每一个值都是输入张量中对应元素最小的\n",
    "a = tf.minimum(tf.constant([1,2]),tf.constant([5,1]))\n",
    "with tf.Session() as sess:\n",
    "    print(a.eval())"
   ]
  },
  {
   "cell_type": "code",
   "execution_count": null,
   "metadata": {},
   "outputs": [],
   "source": [
    "#第三题\n",
    "#TensorArray可以看做是具有动态size功能的Tensor数组。通常跟while_loop或map_fn结合使用\n",
    "import tensorflow as tf\n",
    "\n",
    "\n",
    "def condition(time, output_ta_l):\n",
    "    return tf.less(time, 5)\n",
    "\n",
    "\n",
    "def body(time, output_ta_l):\n",
    "    output_ta_l = output_ta_l.write(time, [2.,33.])\n",
    "    return time + 1, output_ta_l\n",
    "\n",
    "\n",
    "time = tf.constant(0)\n",
    "output_ta = tf.TensorArray(dtype=tf.float32, size=1, dynamic_size=True)\n",
    "\n",
    "result = tf.while_loop(condition, body, loop_vars=[time, output_ta])\n",
    "\n",
    "last_time, last_out = result\n",
    "\n",
    "final_out = last_out.stack()\n",
    "\n",
    "with tf.Session():\n",
    "    print(last_time.eval())\n",
    "    print(final_out.eval())"
   ]
  }
 ],
 "metadata": {
  "kernelspec": {
   "display_name": "Python 3",
   "language": "python",
   "name": "python3"
  },
  "language_info": {
   "codemirror_mode": {
    "name": "ipython",
    "version": 3
   },
   "file_extension": ".py",
   "mimetype": "text/x-python",
   "name": "python",
   "nbconvert_exporter": "python",
   "pygments_lexer": "ipython3",
   "version": "3.6.5"
  }
 },
 "nbformat": 4,
 "nbformat_minor": 2
}
