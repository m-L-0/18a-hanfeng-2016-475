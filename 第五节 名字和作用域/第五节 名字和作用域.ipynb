{
 "cells": [
  {
   "cell_type": "code",
   "execution_count": 3,
   "metadata": {},
   "outputs": [],
   "source": [
    "#3班韩锋\n",
    "#2016011475"
   ]
  },
  {
   "cell_type": "code",
   "execution_count": null,
   "metadata": {},
   "outputs": [],
   "source": [
    "# name_scope:\n",
    "#     name_scope`可以为其作用域中的节点的`name`添加一个或多个前缀，并使用这些前缀作为划分内部与外部`op`范围的标记。并且`name_scope`可以嵌套使用，代表不同层级的功能区域的划分。name_scope`的参数`name`可以是字母、数字、下划线，不能以下划线开头。\n",
    "# variable_scope:\n",
    "#     variable_scope`主要用于管理变量作用域以及与变量相关的操作，同时`variable_scope`也可以像`name_scope`一样用来给不同操作区域划分范围。可以与`tf.get_variable()`等配合使用完成对变量的重复使用。variable_scope`对象包含一个`reuse`属性，默认的值为`None`，在这种情况下，代表`variable_scope`不是可重用的，`tf.get_variable()`在`variable_scope`中创建的变量会被添加上`variable_scope`的`scope_name`前缀。当`variable_scope`的`reuse`属性值为`True`时，代表此`variable_scope`是可重用的，此时在`variable_scope`中的`tf.get_variable()`用法变成了利用`name`获取已存在的变量，而无法创建变量。也就是说`tf.get_variable()`的用法是随着`reuse`的状态而改变的。\n",
    "# 相同点:\n",
    "#     都可以为其作用域内的节点的name添加一个或多个变量，用来区分他们\n",
    "# 不通点:\n",
    "#     name_scope不能与get_variable一起使用，同时用时不会给节点添加标签\n",
    "#     variable_scope可以与get_variable一起使用，而且用法更灵活"
   ]
  },
  {
   "cell_type": "code",
   "execution_count": 2,
   "metadata": {},
   "outputs": [
    {
     "name": "stderr",
     "output_type": "stream",
     "text": [
      "E:\\python\\lib\\site-packages\\h5py\\__init__.py:36: FutureWarning: Conversion of the second argument of issubdtype from `float` to `np.floating` is deprecated. In future, it will be treated as `np.float64 == np.dtype(float).type`.\n",
      "  from ._conv import register_converters as _register_converters\n"
     ]
    }
   ],
   "source": [
    "import tensorflow as tf"
   ]
  },
  {
   "cell_type": "code",
   "execution_count": 22,
   "metadata": {},
   "outputs": [
    {
     "name": "stdout",
     "output_type": "stream",
     "text": [
      "[0.6604882]\n"
     ]
    }
   ],
   "source": [
    "with tf.variable_scope('scope',reuse=None) as scope:\n",
    "    tf.Variable(2,name = 'my_var_x')\n",
    "    tf.Variable(3,name = 'my_var_y')\n",
    "with tf.variable_scope('scope',reuse=tf.AUTO_REUSE):\n",
    "    x = tf.get_variable('my_var_x',shape=[1])\n",
    "    y = tf.get_variable('my_var_y',shape=[1])\n",
    "with tf.Session() as sess:\n",
    "    lr = tf.nn.sigmoid(x*y)\n",
    "    sess.run(tf.global_variables_initializer())\n",
    "    print(sess.run(lr,feed_dict={x:[10]}))"
   ]
  },
  {
   "cell_type": "code",
   "execution_count": null,
   "metadata": {},
   "outputs": [],
   "source": []
  },
  {
   "cell_type": "code",
   "execution_count": null,
   "metadata": {},
   "outputs": [],
   "source": []
  }
 ],
 "metadata": {
  "kernelspec": {
   "display_name": "Python 3",
   "language": "python",
   "name": "python3"
  },
  "language_info": {
   "codemirror_mode": {
    "name": "ipython",
    "version": 3
   },
   "file_extension": ".py",
   "mimetype": "text/x-python",
   "name": "python",
   "nbconvert_exporter": "python",
   "pygments_lexer": "ipython3",
   "version": "3.6.5"
  }
 },
 "nbformat": 4,
 "nbformat_minor": 2
}
