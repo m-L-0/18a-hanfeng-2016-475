{
 "cells": [
  {
   "cell_type": "code",
   "execution_count": 2,
   "metadata": {},
   "outputs": [],
   "source": [
    "%matplotlib inline\n",
    "import numpy as np\n",
    "from PIL import Image\n",
    "from matplotlib import pyplot as plt\n",
    "\n",
    "import tensorflow as tf\n",
    "from tensorflow.examples.tutorials.mnist import input_data"
   ]
  },
  {
   "cell_type": "code",
   "execution_count": 4,
   "metadata": {},
   "outputs": [
    {
     "name": "stdout",
     "output_type": "stream",
     "text": [
      "Extracting mnist\\train-images-idx3-ubyte.gz\n",
      "Extracting mnist\\train-labels-idx1-ubyte.gz\n",
      "Extracting mnist\\t10k-images-idx3-ubyte.gz\n",
      "Extracting mnist\\t10k-labels-idx1-ubyte.gz\n"
     ]
    }
   ],
   "source": [
    "mnist = input_data.read_data_sets('mnist',one_hot=True)"
   ]
  },
  {
   "cell_type": "code",
   "execution_count": 5,
   "metadata": {},
   "outputs": [],
   "source": [
    "with tf.Graph().as_default() as g:\n",
    "    imputs = tf.placeholder(shape=[None,784],dtype=tf.float32)\n",
    "    labels = tf.placeholder(shape=[None,10],dtype=tf.float32)\n",
    "    \n",
    "    #输出层权重和偏置量\n",
    "    out_weight = tf.Variable(tf.random_normal([784,10]))\n",
    "    out_bias = tf.Variable(tf.zeros([10,]))\n",
    "    \n",
    "    #最终输出\n",
    "    logits = tf.matmul(imputs,out_weight) + out_bias\n",
    "    output = tf.nn.softmax(logits)\n",
    "    \n",
    "    #交叉熵代价函数\n",
    "    loss = tf.reduce_mean(- tf.reduce_sum(labels * tf.log(output + 1e-17),axis=1))\n",
    "    \n",
    "    #正确率\n",
    "    acc = tf.reduce_mean(tf.cast(tf.equal(tf.argmax(output,axis=1),tf.argmax(labels,axis=1)),tf.float32))\n",
    "    \n",
    "    #梯度下降法训练模型\n",
    "    optim = tf.train.GradientDescentOptimizer(learning_rate=0.01)\n",
    "    train_op = optim.minimize(loss)"
   ]
  },
  {
   "cell_type": "code",
   "execution_count": 6,
   "metadata": {},
   "outputs": [
    {
     "name": "stdout",
     "output_type": "stream",
     "text": [
      "loss 12.5463,acc 7.90%\n",
      "loss 6.0217,acc 28.79%\n",
      "loss 4.6753,acc 43.67%\n",
      "loss 2.5647,acc 53.42%\n",
      "loss 4.2242,acc 59.65%\n",
      "loss 1.6641,acc 64.52%\n",
      "loss 1.4217,acc 67.16%\n",
      "loss 1.7919,acc 69.92%\n",
      "loss 1.3279,acc 71.80%\n",
      "loss 1.7734,acc 73.08%\n",
      "loss 1.0342,acc 74.32%\n",
      "loss 1.7951,acc 75.34%\n",
      "loss 1.1661,acc 76.26%\n",
      "loss 1.1143,acc 76.88%\n",
      "loss 0.7615,acc 77.65%\n",
      "loss 0.7702,acc 78.32%\n",
      "loss 1.4999,acc 78.60%\n",
      "loss 0.7142,acc 79.19%\n",
      "loss 1.4243,acc 79.63%\n",
      "loss 0.7528,acc 79.96%\n"
     ]
    }
   ],
   "source": [
    "with tf.Session(graph=g) as sess:\n",
    "    sess.run(tf.global_variables_initializer())\n",
    "    \n",
    "    for i in range(10000):\n",
    "        accs = []\n",
    "        batch_images,batch_labels = mnist.train.next_batch(32)\n",
    "        res_loss,_ = sess.run([loss,train_op],feed_dict={imputs:batch_images, labels:batch_labels})\n",
    "        if i % 500 == 0:\n",
    "            for j in range(10000 // 32):\n",
    "                batch_images,batch_labels = mnist.test.next_batch(32)\n",
    "                res_acc = sess.run(acc,feed_dict={imputs:batch_images, labels:batch_labels})\n",
    "                accs.append(res_acc)\n",
    "                m_acc = np.mean(accs)\n",
    "            print('loss %2.4f,acc %2.2f%%' % (res_loss,m_acc*100))"
   ]
  },
  {
   "cell_type": "code",
   "execution_count": null,
   "metadata": {},
   "outputs": [],
   "source": []
  }
 ],
 "metadata": {
  "kernelspec": {
   "display_name": "Python 3",
   "language": "python",
   "name": "python3"
  },
  "language_info": {
   "codemirror_mode": {
    "name": "ipython",
    "version": 3
   },
   "file_extension": ".py",
   "mimetype": "text/x-python",
   "name": "python",
   "nbconvert_exporter": "python",
   "pygments_lexer": "ipython3",
   "version": "3.6.5"
  }
 },
 "nbformat": 4,
 "nbformat_minor": 2
}
